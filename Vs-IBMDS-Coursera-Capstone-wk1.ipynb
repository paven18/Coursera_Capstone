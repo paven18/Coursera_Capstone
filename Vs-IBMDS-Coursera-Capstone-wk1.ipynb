{
    "cells": [
        {
            "cell_type": "markdown",
            "metadata": {
                "collapsed": true
            },
            "source": "### Capstone Project- Where to set up a Restaurant in Downtown Toronto?"
        },
        {
            "cell_type": "markdown",
            "metadata": {},
            "source": "The Coursera IBM Data Science Professional Certificate course provides a hands-on understanding of Data science, Machine Learning using Cloud Tools: Jupyter / JupyterLab, GitHub, R Studio, and Watson Studio, API such as Foursquare and Libraries: Pandas, NumPy, Matplotlib, Seaborn, Folium, ipython-sql, Scikit-learn, ScipPy, etc.\n\nThe Capstone project is final project which carries the highest weightage.\n"
        },
        {
            "cell_type": "markdown",
            "metadata": {},
            "source": "<b>1. Introduction/Business Problem-</b> A description of the problem and a discussion of the background.\n\nAn entrepreneur wants to open a restaurant in the Downtown Toronto area. There are several Neighborhoods in the Downtown Toronto area. The ideal location will be the one that already has different types of restaurants and also satisfies other business criteria such as the target customers, type of the restaurant and finances available. The objective is to come up with the top 10 types of Venues in each neighborhood. This analysis will help any entrepreneur to determine the ideal location depending on the target customers, type of the restaurant and finances available for the business that is proposed to be opened.\n\n\n\n"
        },
        {
            "cell_type": "markdown",
            "metadata": {},
            "source": "<b>2. Data-</b> A description of the data and how it will be used to solve the problem.\n\nThe purpose of data collection is to enable to decide the top10 Establishments/ Venues in each neighborhood. So, a getting a list of the Venues for each neighborhood in the Downtown Toronto area will enable us to find the top 10 Venues. The following data is identified as necessary to help in achieving the business objective.\n\nThe list of postal code and Neighborhoods of Canada along with the Latitude and Longitude- This data will help in using the latitude and longitude to retrieve list of venues in each Neighborhood.\n\na. The Wikipedia page has a list of Canada postal codes and Boroughs and Neighborhoods. This data will have to be scrapped from the web page. This data will be cleaned up and formatted using one hot encoding techniques and pandas string replacement functions.\n\nb. Retrieve / Get the list of Geo coordinates (Latitude and Longitude) for each postal code. Alternatively, use a csv file that has all the Geo coordinates. This data will be merged with the data retrieved in step1.\n\nThe list of venues for each neighborhood- This data will help in using Machine Learning to find patterns in the data by Segmentation and Clustering.\n\na. Use the Foursquare API to get the list of Venues for each Latitude and Longitude.\n"
        }
    ],
    "metadata": {
        "kernelspec": {
            "display_name": "Python 3.7",
            "language": "python",
            "name": "python3"
        },
        "language_info": {
            "codemirror_mode": {
                "name": "ipython",
                "version": 3
            },
            "file_extension": ".py",
            "mimetype": "text/x-python",
            "name": "python",
            "nbconvert_exporter": "python",
            "pygments_lexer": "ipython3",
            "version": "3.7.9"
        }
    },
    "nbformat": 4,
    "nbformat_minor": 1
}