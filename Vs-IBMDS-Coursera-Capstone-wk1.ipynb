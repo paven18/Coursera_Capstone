{
    "cells": [
        {
            "cell_type": "markdown",
            "metadata": {
                "collapsed": true
            },
            "source": "### Capstone Project- Where to set up a Restaurant in Downtown Toronto."
        },
        {
            "cell_type": "markdown",
            "metadata": {},
            "source": "<b>1. Introduction/Business Problem-</b> A description of the problem and a discussion of the background.\n\nAn entrepreneur wants to open an restaurant in the Downtown Toronto area. There are several Neighborhoods in the Downtown Toronto area. The ideal location will be the one that already has different types of restaurants and also satifies other business criteria such as the target customers, type of the restaurant and finances available. The objective is to come up with the top 10 types of Venues in each neighborhood. This analysis will help any entreprenuer to determine the ideal location depending on the target customers, type of the restaurant and finances available for the business that is proposed to be opened.\n\n"
        },
        {
            "cell_type": "markdown",
            "metadata": {},
            "source": "<b>2. Data-</b> A description of the data and how it will be used to solve the problem.\n\nThe data collection should enable to decide the top10 establishments/ Venues in each neighborhood. So a getting a list of Venues for each neighborhood in the Downtown Toronto area will enable to find the top 10 Venues.\nThe following data is identified as necessary to help in achieving the business objective.\n1. The list of postal code and Neighborhoods of Canada along with the latiude and longitude- This data will help in using the latitude and longitude to retrieve list of venues in each neigborhood.\n\n    a. The Wikipedia page has a list of Canada postal codes and Boroughs and Neighborhoods. This data will have to be scrapped from the web page. This data will be celaned up and formatted using one hot encoding techniques and pandas string replacement functions.\n\n    b. Retrieve / Get the list of Geo coordinates (Latitude and Longitude) for each postal code. Alternatively, use a csv file that has all the Geo coordinates. This data will be merged with the data retrieved in step1.\n    \n\n2. The list of venues for each neighborhood- This data will help in using Machine Lerning to find patterns in the data by Segmentation and Clustering.\n\n    a. Use the Foursuare API to get the list of Venues for each Latitude and Longitude."
        }
    ],
    "metadata": {
        "kernelspec": {
            "display_name": "Python 3.7",
            "language": "python",
            "name": "python3"
        },
        "language_info": {
            "codemirror_mode": {
                "name": "ipython",
                "version": 3
            },
            "file_extension": ".py",
            "mimetype": "text/x-python",
            "name": "python",
            "nbconvert_exporter": "python",
            "pygments_lexer": "ipython3",
            "version": "3.7.9"
        }
    },
    "nbformat": 4,
    "nbformat_minor": 1
}