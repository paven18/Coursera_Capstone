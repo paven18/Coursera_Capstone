{
    "cells": [
        {
            "cell_type": "markdown",
            "metadata": {
                "collapsed": true
            },
            "source": "### Capstone Project- Where to set up a Restaurant in Downtown Toronto?"
        },
        {
            "cell_type": "markdown",
            "metadata": {},
            "source": "The Coursera IBM Data Science Professional Certificate course provides a hands-on understanding of Data science, Machine Learning using Cloud Tools: Jupyter / JupyterLab, GitHub, R Studio, and Watson Studio, API such as Foursquare and Libraries: Pandas, NumPy, Matplotlib, Seaborn, Folium, ipython-sql, Scikit-learn, ScipPy, etc.\n\nThe Capstone project is final project which carries the highest weightage.\n"
        },
        {
            "cell_type": "markdown",
            "metadata": {},
            "source": "<b>1. Introduction/Business Problem-</b> A description of the problem and a discussion of the background.\n\nAn entrepreneur wants to open a restaurant in the Downtown Toronto area. There are several Neighborhoods in the Downtown Toronto area. The ideal location will be the one that already has different types of Restaurants and also satisfies other business criteria such as the target customers, type of the restaurant and finances available. The objective is to come up with the top 10 types of Venues in each neighborhood. This analysis will help any entrepreneur to determine the ideal location depending on the target customers, type of the restaurant and finances available for the business that is proposed to be opened.\nThe target audience for this research is any Entreprenuer who wants to opena Restaurant in Down town toronto but wants to know the whaich area will be suitable for what types of Cuisines. This research will also help Entrpreneuer to know the Cusomters categories that can be targeted in the various neighborhoods of Downtown Toronto.\n\n\n\n"
        },
        {
            "cell_type": "markdown",
            "metadata": {},
            "source": "<b>2. Data-</b> A description of the data and how it will be used to solve the problem.\n\nThe purpose of data collection is to enable to decide the top10 Establishments/ Venues in each neighborhood. So, a getting a list of the Venues for each neighborhood in the Downtown Toronto area will enable us to find the top 10 Venues. The following data is identified as necessary to help in achieving the business objective.\n\nThe list of postal code and Neighborhoods of Canada along with the Latitude and Longitude- This data will help in using the latitude and longitude to retrieve list of venues in each Neighborhood.\n\na. The Wikipedia page has a list of Canada postal codes and Boroughs and Neighborhoods. This data will have to be scrapped from the web page. This data will be cleaned up and formatted using one hot encoding techniques and pandas string replacement functions.\n\n| Postal Code  | Borough\t             | Neighbourhood                               |\n| ------------ | ----------------------- | ------------------------------------------  |\n| M3A\t       | North York\t             | Parkwoods                                   |\n| M4A\t       | North York\t             | Victoria Village                            |\n| M5A\t       | Downtown Toronto\t     | Regent Park, Harbourfront                   |\n| M6A\t       | North York\tLawrence     | Manor, Lawrence Heights                     |\n| M7A\t       | Downtown Toronto\t     | Queen's Park, Ontario Provincial Government |\n\nb. Retrieve / Get the list of Geo coordinates (Latitude and Longitude) for each postal code. Alternatively, use a csv file that has all the Geo coordinates. This data will be merged with the data retrieved in step1.  Following is the data example:\n\n| Postal Code\t| Latitude\t| Longitude |\n|-------------- | --------- | --------- |\n|M1B\t        |43.806686\t|-79.194353 |\n|M1C\t        |43.784535\t|-79.160497 |\n|M1E\t        |43.763573\t|-79.188711 |\n|M1G\t        |43.770992\t|-79.216917 |\n|M1H\t        |43.773136\t|-79.239476 |\n   \n   Following is the data example for merged data:\n   \n| Postal Code  | Borough\t             | Neighbourhood                               | Latitude  | Longitude   |\n| ------------ | ----------------------- | ------------------------------------------  | --------- | ----------- |\n| M3A\t       | North York\t             | Parkwoods                                   | 43.753259 | -79.329656  |\n| M4A\t       | North York\t             | Victoria Village                            | 43.725882 | -79.315572  |\n| M5A\t       | Downtown Toronto\t     | Regent Park, Harbourfront                   | 43.654260 | -79.360636  |\n| M6A\t       | North York\tLawrence     | Manor, Lawrence Heights                     | 43.718518 | -79.464763  |\n| M7A\t       | Downtown Toronto\t     | Queen's Park, Ontario Provincial Government | 43.662301 | -79.389494  |\n   \n\nc. The list of venues for each neighborhood- This data will help in using Machine Learning to find patterns in the data by Segmentation and Clustering.\n    Use the Foursquare API to get the list of Venues for each Latitude and Longitude. Following is the data example:\nvenues_list:\n\n[[('Regent Park, Harbourfront', 43.6542599, -79.3606359, 'Roselle Desserts', 43.653446723052674, -79.3620167174383, 'Bakery'), ('Regent Park, Harbourfront', 43.6542599, -79.3606359, 'Tandem Coffee', 43.65355870959944, -79.36180945913513, 'Coffee Shop'), ('Regent Park, Harbourfront', 43.6542599, -79.3606359, 'Cooper Koo Family YMCA', 43.65324910177244, -79.35800826343677, 'Distribution Center'),\n('Garden District, Ryerson', 43.6571618, -79.37893709999999, 'The Black Canary Espresso Bar', 43.65702925121356, -79.38138512728051, 'Caf\u00e9'), \n"
        },
        {
            "cell_type": "code",
            "execution_count": null,
            "metadata": {},
            "outputs": [],
            "source": ""
        }
    ],
    "metadata": {
        "kernelspec": {
            "display_name": "Python 3.7",
            "language": "python",
            "name": "python3"
        },
        "language_info": {
            "codemirror_mode": {
                "name": "ipython",
                "version": 3
            },
            "file_extension": ".py",
            "mimetype": "text/x-python",
            "name": "python",
            "nbconvert_exporter": "python",
            "pygments_lexer": "ipython3",
            "version": "3.7.9"
        }
    },
    "nbformat": 4,
    "nbformat_minor": 1
}